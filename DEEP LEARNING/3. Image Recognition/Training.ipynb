{
 "cells": [
  {
   "cell_type": "code",
   "execution_count": 25,
   "id": "53fbad0e",
   "metadata": {},
   "outputs": [],
   "source": [
    "from keras.models import Sequential\n",
    "from keras.layers import Conv2D\n",
    "from keras.layers import MaxPooling2D\n",
    "from keras.layers import Flatten\n",
    "from keras.layers import Dense\n",
    "from keras.preprocessing.image import ImageDataGenerator"
   ]
  },
  {
   "cell_type": "code",
   "execution_count": 26,
   "id": "d81020f3",
   "metadata": {},
   "outputs": [
    {
     "data": {
      "text/plain": [
       "<keras.engine.sequential.Sequential at 0x1b94dddce10>"
      ]
     },
     "execution_count": 26,
     "metadata": {},
     "output_type": "execute_result"
    }
   ],
   "source": [
    "model = Sequential()\n",
    "model.add(Conv2D(32, (3, 3), input_shape = (64, 64, 3), activation = 'relu'))\n",
    "model.add(MaxPooling2D(pool_size = (2, 2)))\n",
    "model.add(Flatten())\n",
    "model.add(Dense(units = 128, activation = 'relu'))\n",
    "model.add(Dense(units = 1, activation = 'sigmoid'))\n",
    "\n",
    "model.compile(optimizer = 'adam', loss = 'binary_crossentropy', metrics = ['accuracy'])\n",
    "model"
   ]
  },
  {
   "cell_type": "code",
   "execution_count": 27,
   "id": "dc083ce8",
   "metadata": {},
   "outputs": [
    {
     "data": {
      "text/plain": [
       "<keras.preprocessing.image.ImageDataGenerator at 0x1b94e6300b8>"
      ]
     },
     "execution_count": 27,
     "metadata": {},
     "output_type": "execute_result"
    }
   ],
   "source": [
    "train_datagen = ImageDataGenerator(rescale = 1./255,\n",
    "                                   shear_range = 0.2,\n",
    "                                   zoom_range = 0.2,\n",
    "                                   horizontal_flip = True)\n",
    "train_datagen"
   ]
  },
  {
   "cell_type": "code",
   "execution_count": 28,
   "id": "947f4b50",
   "metadata": {},
   "outputs": [
    {
     "data": {
      "text/plain": [
       "<keras.preprocessing.image.ImageDataGenerator at 0x1b94e630860>"
      ]
     },
     "execution_count": 28,
     "metadata": {},
     "output_type": "execute_result"
    }
   ],
   "source": [
    "val_datagen = ImageDataGenerator(rescale = 1./255)\n",
    "val_datagen"
   ]
  },
  {
   "cell_type": "code",
   "execution_count": 29,
   "id": "15005795",
   "metadata": {},
   "outputs": [
    {
     "name": "stdout",
     "output_type": "stream",
     "text": [
      "Found 42 images belonging to 2 classes.\n"
     ]
    },
    {
     "data": {
      "text/plain": [
       "<keras.preprocessing.image.DirectoryIterator at 0x1b94ddc2438>"
      ]
     },
     "execution_count": 29,
     "metadata": {},
     "output_type": "execute_result"
    }
   ],
   "source": [
    "training_set = train_datagen.flow_from_directory('C:/Users/HP/Downloads/Data Science Projects/PanTech Internship/DEEP LEARNING/3. Image Classification/NewDataset/train',\n",
    "                                                 target_size = (64, 64),\n",
    "                                                 batch_size = 8,\n",
    "                                                 class_mode = 'binary')\n",
    "training_set"
   ]
  },
  {
   "cell_type": "code",
   "execution_count": 30,
   "id": "fca77609",
   "metadata": {},
   "outputs": [
    {
     "name": "stdout",
     "output_type": "stream",
     "text": [
      "Found 23 images belonging to 2 classes.\n",
      "Done\n"
     ]
    }
   ],
   "source": [
    "val_set = val_datagen.flow_from_directory('C:/Users/HP/Downloads/Data Science Projects/PanTech Internship/DEEP LEARNING/3. Image Classification/NewDataset/val',\n",
    "                                            target_size = (64, 64),\n",
    "                                            batch_size = 8,\n",
    "                                            class_mode = 'binary')\n",
    "print(\"Done\")"
   ]
  },
  {
   "cell_type": "code",
   "execution_count": 37,
   "id": "0ba4f033",
   "metadata": {},
   "outputs": [
    {
     "name": "stdout",
     "output_type": "stream",
     "text": [
      "Epoch 1/15\n",
      " 1/10 [==>...........................] - ETA: 2s - loss: 4.3068e-05 - accuracy: 1.0000"
     ]
    },
    {
     "name": "stderr",
     "output_type": "stream",
     "text": [
      "C:\\Users\\HP\\anaconda3\\envs\\Pantech\\lib\\site-packages\\PIL\\Image.py:963: UserWarning: Palette images with Transparency expressed in bytes should be converted to RGBA images\n",
      "  \"Palette images with Transparency expressed in bytes should be \"\n"
     ]
    },
    {
     "name": "stdout",
     "output_type": "stream",
     "text": [
      "10/10 [==============================] - 3s 277ms/step - loss: 2.2307e-05 - accuracy: 1.0000 - val_loss: 2.1872e-06 - val_accuracy: 1.0000\n",
      "Epoch 2/15\n",
      "10/10 [==============================] - 4s 371ms/step - loss: 1.7841e-05 - accuracy: 1.0000 - val_loss: 8.5552e-07 - val_accuracy: 1.0000\n",
      "Epoch 3/15\n",
      "10/10 [==============================] - 3s 273ms/step - loss: 2.2196e-05 - accuracy: 1.0000 - val_loss: 1.2620e-05 - val_accuracy: 1.0000\n",
      "Epoch 4/15\n",
      "10/10 [==============================] - 3s 336ms/step - loss: 2.9866e-05 - accuracy: 1.0000 - val_loss: 2.1369e-06 - val_accuracy: 1.0000\n",
      "Epoch 5/15\n",
      "10/10 [==============================] - 4s 369ms/step - loss: 3.5751e-05 - accuracy: 1.0000 - val_loss: 1.5341e-06 - val_accuracy: 1.0000\n",
      "Epoch 6/15\n",
      "10/10 [==============================] - 3s 289ms/step - loss: 1.3407e-05 - accuracy: 1.0000 - val_loss: 1.0219e-07 - val_accuracy: 1.0000\n",
      "Epoch 7/15\n",
      "10/10 [==============================] - 3s 342ms/step - loss: 6.1970e-05 - accuracy: 1.0000 - val_loss: 3.7635e-06 - val_accuracy: 1.0000\n",
      "Epoch 8/15\n",
      "10/10 [==============================] - 4s 360ms/step - loss: 3.1179e-05 - accuracy: 1.0000 - val_loss: 2.1699e-06 - val_accuracy: 1.0000\n",
      "Epoch 9/15\n",
      "10/10 [==============================] - 3s 301ms/step - loss: 1.9298e-05 - accuracy: 1.0000 - val_loss: 2.8097e-06 - val_accuracy: 1.0000\n",
      "Epoch 10/15\n",
      "10/10 [==============================] - 3s 326ms/step - loss: 6.1151e-05 - accuracy: 1.0000 - val_loss: 1.0475e-05 - val_accuracy: 1.0000\n",
      "Epoch 11/15\n",
      "10/10 [==============================] - 4s 382ms/step - loss: 2.2562e-05 - accuracy: 1.0000 - val_loss: 1.5930e-06 - val_accuracy: 1.0000\n",
      "Epoch 12/15\n",
      "10/10 [==============================] - 2s 249ms/step - loss: 2.2400e-05 - accuracy: 1.0000 - val_loss: 2.3684e-07 - val_accuracy: 1.0000\n",
      "Epoch 13/15\n",
      "10/10 [==============================] - 4s 373ms/step - loss: 3.9508e-05 - accuracy: 1.0000 - val_loss: 2.0947e-06 - val_accuracy: 1.0000\n",
      "Epoch 14/15\n",
      "10/10 [==============================] - 4s 422ms/step - loss: 2.0838e-05 - accuracy: 1.0000 - val_loss: 9.2144e-06 - val_accuracy: 1.0000\n",
      "Epoch 15/15\n",
      "10/10 [==============================] - 3s 293ms/step - loss: 1.8403e-05 - accuracy: 1.0000 - val_loss: 2.4598e-07 - val_accuracy: 1.0000\n"
     ]
    },
    {
     "data": {
      "text/plain": [
       "<keras.callbacks.callbacks.History at 0x1b94ddc2550>"
      ]
     },
     "execution_count": 37,
     "metadata": {},
     "output_type": "execute_result"
    }
   ],
   "source": [
    "model.fit_generator(training_set,\n",
    "                         steps_per_epoch = 10,\n",
    "                         epochs = 15,\n",
    "                         validation_data = val_set,\n",
    "                         validation_steps = 2)\n"
   ]
  },
  {
   "cell_type": "code",
   "execution_count": 38,
   "id": "25d96962",
   "metadata": {},
   "outputs": [
    {
     "name": "stdout",
     "output_type": "stream",
     "text": [
      "Saved model to disk\n"
     ]
    }
   ],
   "source": [
    "model_json = model.to_json()\n",
    "with open(\"model2.json\", \"w\") as json_file:\n",
    "    json_file.write(model_json)\n",
    "model.save_weights(\"model2.h5\")\n",
    "print(\"Saved model to disk\")"
   ]
  },
  {
   "cell_type": "code",
   "execution_count": null,
   "id": "5fa6f0b4",
   "metadata": {},
   "outputs": [],
   "source": []
  }
 ],
 "metadata": {
  "kernelspec": {
   "display_name": "Python 3",
   "language": "python",
   "name": "python3"
  },
  "language_info": {
   "codemirror_mode": {
    "name": "ipython",
    "version": 3
   },
   "file_extension": ".py",
   "mimetype": "text/x-python",
   "name": "python",
   "nbconvert_exporter": "python",
   "pygments_lexer": "ipython3",
   "version": "3.6.13"
  }
 },
 "nbformat": 4,
 "nbformat_minor": 5
}
