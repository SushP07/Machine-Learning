{
 "cells": [
  {
   "cell_type": "code",
   "execution_count": 7,
   "id": "cf947f24",
   "metadata": {},
   "outputs": [],
   "source": [
    "from keras.models import model_from_json\n",
    "import numpy as np\n",
    "from keras.preprocessing import image\n"
   ]
  },
  {
   "cell_type": "code",
   "execution_count": 60,
   "id": "4a8e6f17",
   "metadata": {},
   "outputs": [
    {
     "name": "stdout",
     "output_type": "stream",
     "text": [
      "Loaded model from disk\n"
     ]
    }
   ],
   "source": [
    "json_file = open('model2.json', 'r')\n",
    "loaded_model_json = json_file.read()\n",
    "json_file.close()\n",
    "model = model_from_json(loaded_model_json)\n",
    "model.load_weights(\"model2.h5\")\n",
    "print(\"Loaded model from disk\")"
   ]
  },
  {
   "cell_type": "code",
   "execution_count": 61,
   "id": "a79569e4",
   "metadata": {},
   "outputs": [],
   "source": [
    "def classify(img_file):\n",
    "    img_name = img_file\n",
    "    test_image = image.load_img(img_name, target_size = (64, 64))\n",
    "\n",
    "    test_image = image.img_to_array(test_image)\n",
    "    test_image = np.expand_dims(test_image, axis=0)\n",
    "    result = model.predict(test_image)\n",
    "    print(result[0][0])\n",
    "    if result[0][0] == 1:\n",
    "        prediction = 'Naruto'\n",
    "    else:\n",
    "        prediction = 'Harry'\n",
    "    print(prediction,img_name)\n"
   ]
  },
  {
   "cell_type": "code",
   "execution_count": 62,
   "id": "6195fa11",
   "metadata": {},
   "outputs": [],
   "source": [
    "import os\n",
    "path = 'C:/Users/HP/Downloads/Data Science Projects/PanTech Internship/DEEP LEARNING/3. Image Classification/NewDataset/test'\n",
    "files = []\n",
    "for r, d, f in os.walk(path):\n",
    "   for file in f:\n",
    "     if '.jpeg' in file:\n",
    "       files.append(os.path.join(r, file))"
   ]
  },
  {
   "cell_type": "code",
   "execution_count": 63,
   "id": "5e070b10",
   "metadata": {},
   "outputs": [
    {
     "name": "stdout",
     "output_type": "stream",
     "text": [
      "1.0\n",
      "Naruto C:/Users/HP/Downloads/Data Science Projects/PanTech Internship/DEEP LEARNING/3. Image Classification/NewDataset/test\\harrypotter_1.jpeg\n",
      "\n",
      "\n",
      "0.0\n",
      "Harry C:/Users/HP/Downloads/Data Science Projects/PanTech Internship/DEEP LEARNING/3. Image Classification/NewDataset/test\\harrypotter_2.jpeg\n",
      "\n",
      "\n",
      "1.0\n",
      "Naruto C:/Users/HP/Downloads/Data Science Projects/PanTech Internship/DEEP LEARNING/3. Image Classification/NewDataset/test\\harrypotter_3.jpeg\n",
      "\n",
      "\n",
      "0.0\n",
      "Harry C:/Users/HP/Downloads/Data Science Projects/PanTech Internship/DEEP LEARNING/3. Image Classification/NewDataset/test\\harrypotter_5.jpeg\n",
      "\n",
      "\n",
      "1.0\n",
      "Naruto C:/Users/HP/Downloads/Data Science Projects/PanTech Internship/DEEP LEARNING/3. Image Classification/NewDataset/test\\harrypotter_6.jpeg\n",
      "\n",
      "\n",
      "1.0\n",
      "Naruto C:/Users/HP/Downloads/Data Science Projects/PanTech Internship/DEEP LEARNING/3. Image Classification/NewDataset/test\\harrypotter_7.jpeg\n",
      "\n",
      "\n",
      "0.0\n",
      "Harry C:/Users/HP/Downloads/Data Science Projects/PanTech Internship/DEEP LEARNING/3. Image Classification/NewDataset/test\\harrypotter_8.jpeg\n",
      "\n",
      "\n",
      "1.0\n",
      "Naruto C:/Users/HP/Downloads/Data Science Projects/PanTech Internship/DEEP LEARNING/3. Image Classification/NewDataset/test\\naruto_20.jpeg\n",
      "\n",
      "\n",
      "1.0\n",
      "Naruto C:/Users/HP/Downloads/Data Science Projects/PanTech Internship/DEEP LEARNING/3. Image Classification/NewDataset/test\\naruto_21.jpeg\n",
      "\n",
      "\n",
      "1.0\n",
      "Naruto C:/Users/HP/Downloads/Data Science Projects/PanTech Internship/DEEP LEARNING/3. Image Classification/NewDataset/test\\naruto_5.jpeg\n",
      "\n",
      "\n",
      "1.0\n",
      "Naruto C:/Users/HP/Downloads/Data Science Projects/PanTech Internship/DEEP LEARNING/3. Image Classification/NewDataset/test\\naruto_58.jpeg\n",
      "\n",
      "\n"
     ]
    }
   ],
   "source": [
    "for f in files:\n",
    "   classify(f)\n",
    "   print('\\n')\n"
   ]
  },
  {
   "cell_type": "code",
   "execution_count": null,
   "id": "9989e4a7",
   "metadata": {},
   "outputs": [],
   "source": []
  }
 ],
 "metadata": {
  "kernelspec": {
   "display_name": "Python 3",
   "language": "python",
   "name": "python3"
  },
  "language_info": {
   "codemirror_mode": {
    "name": "ipython",
    "version": 3
   },
   "file_extension": ".py",
   "mimetype": "text/x-python",
   "name": "python",
   "nbconvert_exporter": "python",
   "pygments_lexer": "ipython3",
   "version": "3.6.13"
  }
 },
 "nbformat": 4,
 "nbformat_minor": 5
}
