{
 "cells": [
  {
   "cell_type": "code",
   "execution_count": 50,
   "id": "aquatic-piece",
   "metadata": {},
   "outputs": [],
   "source": [
    "import cv2\n",
    "img=cv2.imread(\"IMG20201204124013.jpg\")\n",
    "cv2.imshow(\"Sush\",img)\n",
    "cv2.waitKey(0)\n",
    "cv2.destroyAllWindows()"
   ]
  },
  {
   "cell_type": "code",
   "execution_count": 51,
   "id": "flexible-tours",
   "metadata": {},
   "outputs": [
    {
     "name": "stdout",
     "output_type": "stream",
     "text": [
      "(492, 369, 3) 544644 uint8\n"
     ]
    }
   ],
   "source": [
    "print(img.shape,img.size,img.dtype)"
   ]
  },
  {
   "cell_type": "code",
   "execution_count": 52,
   "id": "institutional-escape",
   "metadata": {},
   "outputs": [],
   "source": [
    "GrayImage=cv2.cvtColor(img,cv2.COLOR_BGR2GRAY)\n",
    "cv2.imwrite(\"GrayImage.jpg\",GrayImage)\n",
    "cv2.imshow(\"GreySush\",GrayImage)\n",
    "cv2.waitKey(0)\n",
    "cv2.destroyAllWindows()"
   ]
  },
  {
   "cell_type": "code",
   "execution_count": 53,
   "id": "ultimate-apparel",
   "metadata": {},
   "outputs": [],
   "source": [
    "import imutils"
   ]
  },
  {
   "cell_type": "code",
   "execution_count": 54,
   "id": "crazy-praise",
   "metadata": {},
   "outputs": [
    {
     "data": {
      "text/plain": [
       "True"
      ]
     },
     "execution_count": 54,
     "metadata": {},
     "output_type": "execute_result"
    }
   ],
   "source": [
    "RSize=imutils.resize(GrayImage,width=1000)\n",
    "cv2.imwrite(\"Rsize.jpg\",RSize)"
   ]
  },
  {
   "cell_type": "code",
   "execution_count": 55,
   "id": "secure-mining",
   "metadata": {},
   "outputs": [
    {
     "data": {
      "text/plain": [
       "True"
      ]
     },
     "execution_count": 55,
     "metadata": {},
     "output_type": "execute_result"
    }
   ],
   "source": [
    "gausBlur=cv2.GaussianBlur(img,(11,11),0)\n",
    "cv2.imwrite(\"GBlur.jpg\",gausBlur)"
   ]
  },
  {
   "cell_type": "code",
   "execution_count": null,
   "id": "northern-translator",
   "metadata": {},
   "outputs": [],
   "source": []
  },
  {
   "cell_type": "code",
   "execution_count": 56,
   "id": "sonic-stations",
   "metadata": {},
   "outputs": [
    {
     "name": "stdout",
     "output_type": "stream",
     "text": [
      "25.0\n"
     ]
    }
   ],
   "source": [
    "_,TI=cv2.threshold(GrayImage,25,150,cv2.THRESH_BINARY)\n",
    "cv2.imwrite(\"ThresHold.jpg\",TI)\n",
    "print(_)"
   ]
  },
  {
   "cell_type": "code",
   "execution_count": 57,
   "id": "israeli-texas",
   "metadata": {},
   "outputs": [],
   "source": [
    "\n",
    "img2=cv2.putText(TI,\"Sush\",(60,220),cv2.FONT_HERSHEY_SIMPLEX,0.5,(0,0,255),2)"
   ]
  },
  {
   "cell_type": "code",
   "execution_count": 60,
   "id": "local-breeding",
   "metadata": {},
   "outputs": [
    {
     "data": {
      "text/plain": [
       "True"
      ]
     },
     "execution_count": 60,
     "metadata": {},
     "output_type": "execute_result"
    }
   ],
   "source": [
    "img3=cv2.rectangle(TI,(10,20),(60,220),(0,255,0),2)\n",
    "cv2.imshow(\"Sush\",img3)\n",
    "cv2.waitKey(0)\n",
    "cv2.destroyAllWindows()\n",
    "cv2.imwrite(\"BoxText.jpg\",img3)"
   ]
  },
  {
   "cell_type": "code",
   "execution_count": null,
   "id": "cheap-element",
   "metadata": {},
   "outputs": [],
   "source": []
  }
 ],
 "metadata": {
  "kernelspec": {
   "display_name": "Python 3",
   "language": "python",
   "name": "python3"
  },
  "language_info": {
   "codemirror_mode": {
    "name": "ipython",
    "version": 3
   },
   "file_extension": ".py",
   "mimetype": "text/x-python",
   "name": "python",
   "nbconvert_exporter": "python",
   "pygments_lexer": "ipython3",
   "version": "3.8.5"
  }
 },
 "nbformat": 4,
 "nbformat_minor": 5
}
